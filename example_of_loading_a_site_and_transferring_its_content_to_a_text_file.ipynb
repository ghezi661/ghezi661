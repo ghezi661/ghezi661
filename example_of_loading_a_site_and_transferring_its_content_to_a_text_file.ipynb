{
  "nbformat": 4,
  "nbformat_minor": 0,
  "metadata": {
    "colab": {
      "name": " example of loading a site and transferring its content to a text file",
      "provenance": [],
      "authorship_tag": "ABX9TyP4mVhppEPB7y4VEazBNxPM",
      "include_colab_link": true
    },
    "kernelspec": {
      "name": "python3",
      "display_name": "Python 3"
    },
    "language_info": {
      "name": "python"
    }
  },
  "cells": [
    {
      "cell_type": "markdown",
      "metadata": {
        "id": "view-in-github",
        "colab_type": "text"
      },
      "source": [
        "<a href=\"https://colab.research.google.com/github/ghezi661/ghezi661/blob/main/example_of_loading_a_site_and_transferring_its_content_to_a_text_file.ipynb\" target=\"_parent\"><img src=\"https://colab.research.google.com/assets/colab-badge.svg\" alt=\"Open In Colab\"/></a>"
      ]
    },
    {
      "cell_type": "code",
      "execution_count": null,
      "metadata": {
        "id": "XfmqMeL_Nuvg"
      },
      "outputs": [],
      "source": [
        "from urllib import request\n",
        "import urllib.request\n",
        "#An example of loading a site and transferring its content to a text file\n",
        "local_file = 'iris.csv'\n",
        "\n",
        "url2= 'http://www.google.com'\n",
        "\n",
        "dataFolder = 'D:\\python2/'\n",
        "dataFile = dataFolder + \"iris.txt\"\n",
        "\n",
        "urllib.request.urlretrieve(url2, dataFile)\n"
      ]
    },
    {
      "cell_type": "code",
      "source": [
        ""
      ],
      "metadata": {
        "id": "BOZieRyV833G"
      },
      "execution_count": null,
      "outputs": []
    },
    {
      "cell_type": "code",
      "source": [
        ""
      ],
      "metadata": {
        "id": "XXd5ze2e84T-"
      },
      "execution_count": null,
      "outputs": []
    },
    {
      "cell_type": "code",
      "source": [
        ""
      ],
      "metadata": {
        "id": "GDY_LjUN84s_"
      },
      "execution_count": null,
      "outputs": []
    },
    {
      "cell_type": "code",
      "source": [
        ""
      ],
      "metadata": {
        "id": "u96yL_7i85AY"
      },
      "execution_count": null,
      "outputs": []
    },
    {
      "cell_type": "markdown",
      "source": [
        ""
      ],
      "metadata": {
        "id": "fvuFxY9685aj"
      }
    },
    {
      "cell_type": "markdown",
      "source": [
        ""
      ],
      "metadata": {
        "id": "xAYZA2Gm85xl"
      }
    },
    {
      "cell_type": "code",
      "execution_count": null,
      "metadata": {
        "colab": {
          "base_uri": "https://localhost:8080/",
          "height": 248
        },
        "outputId": "235ccad5-722f-4a8d-88e1-c7a332142f96",
        "id": "LYGTOewoOAUt"
      },
      "outputs": [
        {
          "output_type": "error",
          "ename": "NameError",
          "evalue": "ignored",
          "traceback": [
            "\u001b[0;31m---------------------------------------------------------------------------\u001b[0m",
            "\u001b[0;31mNameError\u001b[0m                                 Traceback (most recent call last)",
            "\u001b[0;32m<ipython-input-13-dff23dab31d5>\u001b[0m in \u001b[0;36m<module>\u001b[0;34m()\u001b[0m\n\u001b[1;32m      9\u001b[0m \u001b[0;34m\u001b[0m\u001b[0m\n\u001b[1;32m     10\u001b[0m \u001b[0;31m#url = \"https://training.xcelvations.com/data/iris.csv\"\u001b[0m\u001b[0;34m\u001b[0m\u001b[0;34m\u001b[0m\u001b[0;34m\u001b[0m\u001b[0m\n\u001b[0;32m---> 11\u001b[0;31m \u001b[0mu\u001b[0m \u001b[0;34m=\u001b[0m \u001b[0murllib2\u001b[0m\u001b[0;34m.\u001b[0m\u001b[0murlopen\u001b[0m\u001b[0;34m(\u001b[0m \u001b[0mwww\u001b[0m\u001b[0;34m.\u001b[0m\u001b[0mgoogle\u001b[0m\u001b[0;34m.\u001b[0m\u001b[0mcom\u001b[0m \u001b[0;34m)\u001b[0m\u001b[0;34m\u001b[0m\u001b[0;34m\u001b[0m\u001b[0m\n\u001b[0m\u001b[1;32m     12\u001b[0m \u001b[0mdataFolder\u001b[0m \u001b[0;34m=\u001b[0m \u001b[0;34m'D:\\python/'\u001b[0m\u001b[0;34m\u001b[0m\u001b[0;34m\u001b[0m\u001b[0m\n\u001b[1;32m     13\u001b[0m \u001b[0mdataFile\u001b[0m \u001b[0;34m=\u001b[0m \u001b[0mdataFolder\u001b[0m \u001b[0;34m+\u001b[0m \u001b[0;34m\"iris.csv\"\u001b[0m\u001b[0;34m\u001b[0m\u001b[0;34m\u001b[0m\u001b[0m\n",
            "\u001b[0;31mNameError\u001b[0m: name 'www' is not defined"
          ]
        }
      ],
      "source": [
        "#import urllib2\n",
        "import urllib.request as urllib2\n",
        "import tensorflow as tf\n",
        "from tensorflow.keras import layers\n",
        "import pandas as pd\n",
        "import numpy as np\n",
        "from tensorflow.keras import datasets, layers, models\n",
        "from tensorflow.keras.utils import to_categorical\n",
        "\n",
        "#url = \"https://training.xcelvations.com/data/iris.csv\"\n",
        "u = urllib2.urlopen( www.google.com )\n",
        "dataFolder = 'D:\\python/'\n",
        "dataFile = dataFolder + \"iris.csv\"\n",
        "localFile = open('iris.csv', 'w')\n",
        "#localFile.write(u.read())\n",
        "localFile.close()"
      ]
    }
  ]
}