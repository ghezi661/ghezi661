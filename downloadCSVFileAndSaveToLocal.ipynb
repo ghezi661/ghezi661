{
  "nbformat": 4,
  "nbformat_minor": 0,
  "metadata": {
    "colab": {
      "name": "downloadCSVFileAndSaveToLocal.ipynb",
      "provenance": [],
      "authorship_tag": "ABX9TyOMvUMZhA5MMy4zmJV/gDuX",
      "include_colab_link": true
    },
    "kernelspec": {
      "name": "python3",
      "display_name": "Python 3"
    },
    "language_info": {
      "name": "python"
    }
  },
  "cells": [
    {
      "cell_type": "markdown",
      "metadata": {
        "id": "view-in-github",
        "colab_type": "text"
      },
      "source": [
        "<a href=\"https://colab.research.google.com/github/ghezi661/ghezi661/blob/main/downloadCSVFileAndSaveToLocal.ipynb\" target=\"_parent\"><img src=\"https://colab.research.google.com/assets/colab-badge.svg\" alt=\"Open In Colab\"/></a>"
      ]
    },
    {
      "cell_type": "code",
      "execution_count": null,
      "metadata": {
        "id": "YVgRhUVFyKlU"
      },
      "outputs": [],
      "source": [
        "import urllib.request\n",
        "\n",
        "csv_url = 'https://datahub.io/machine-learning/iris/r/iris.csv'\n",
        "\n",
        "urllib.request.urlretrieve(csv_url, 'local file path /iris.csv')"
      ]
    }
  ]
}